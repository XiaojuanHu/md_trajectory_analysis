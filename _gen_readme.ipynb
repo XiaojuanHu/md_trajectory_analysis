{
 "cells": [
  {
   "cell_type": "markdown",
   "metadata": {},
   "source": [
    "# README\n",
    "\n",
    "Run script `analyse.py` with no arguments to calculate RDF between oxygen-oxygen in the `example.pdb`.\n",
    "This will generate a plot of RDF, $g_{ab}$, and coordination number, $N_{ab}$ as function of $r$ in `rdf_and_coordination.png`.\n",
    "\n",
    "Often by 'coordination number' people actually mean the value of $N_{ab}$ at $r$ where first peak of $g_{ab}$ occurs. \n",
    "This you can either infer from the plot, or write code find the first maxima $r_{max}$ and then get $N_{ab}(r_{max})$. \n",
    "Similarly, for second coordination shell, you can use the second peak and so on. "
   ]
  }
 ],
 "metadata": {
  "hide_input": false,
  "kernelspec": {
   "display_name": "Python 3",
   "language": "python",
   "name": "python3"
  },
  "language_info": {
   "codemirror_mode": {
    "name": "ipython",
    "version": 3
   },
   "file_extension": ".py",
   "mimetype": "text/x-python",
   "name": "python",
   "nbconvert_exporter": "python",
   "pygments_lexer": "ipython3",
   "version": "3.7.10"
  }
 },
 "nbformat": 4,
 "nbformat_minor": 4
}
